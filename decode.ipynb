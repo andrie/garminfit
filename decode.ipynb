{
 "cells": [
  {
   "cell_type": "code",
   "execution_count": null,
   "metadata": {},
   "outputs": [],
   "source": [
    "import sys\n",
    "sys.path.append('py')\n",
    "from importlib import reload # Python 3.4+\n",
    "import parse_fit\n",
    "reload(parse_fit)\n",
    "\n",
    "fname = \"data/paddle_hcc.fit\"\n",
    "parse_fit.list_fields(fname)"
   ]
  },
  {
   "cell_type": "code",
   "execution_count": null,
   "metadata": {},
   "outputs": [],
   "source": [
    "import sys\n",
    "sys.path.append('py')\n",
    "from importlib import reload # Python 3.4+\n",
    "import parse_fit\n",
    "reload(parse_fit)\n",
    "\n",
    "fname = \"data/paddle_hcc.fit\"\n",
    "laps_df, points_df = parse_fit.get_dataframes(fname)\n",
    "# print('LAPS:')\n",
    "# print(laps_df.head())\n",
    "print('\\nPOINTS:')\n",
    "print(points_df.head())\n",
    "\n",
    "\n",
    "mlat = points_df['lat'].mean()\n",
    "print(mlat)\n"
   ]
  },
  {
   "cell_type": "code",
   "execution_count": null,
   "metadata": {},
   "outputs": [],
   "source": [
    "\n",
    "import branca.colormap as cm\n",
    "\n",
    "speed = cm.LinearColormap( [\"red\", \"yellow\", \"green\"], vmin=1.5, vmax=4.1, caption=\"speed\")\n",
    "\n",
    "speed\n",
    "\n",
    "import folium\n",
    "\n",
    "# creat map of latitude and longitude in points_df\n",
    "mlat = points_df['lat'].mean()\n",
    "mlon = points_df['lon'].mean()\n",
    "print (mlat, mlon)\n",
    "m = folium.Map(location=[mlat, mlon], zoom_start=16, tiles=\"cartodb positron\")\n",
    "\n",
    "trail = points_df[['lat', 'lon']].values.tolist()\n",
    "# folium.PolyLine(trail, color=\"red\", weight=2.5, opacity=1).add_to(m)\n",
    "folium.ColorLine(trail, points_df['enhanced_speed'], weight=4, opacity=1, colormap=speed).add_to(m)\n",
    "m\n",
    "\n",
    "from rdp import rdp\n",
    "import numpy as np\n",
    "\n",
    "# extract lon and lat from points_df and convert to numpy array\n",
    "lon = points_df['lon'].values\n",
    "lat = points_df['lat'].values\n",
    "# print (lon.shape, lat.shape)\n",
    "\n",
    "# combine lat and lon into array\n",
    "\n",
    "arr = points_df[['lat', 'lon']].to_numpy()\n",
    "arr.shape\n",
    "tpmask = rdp(arr, epsilon = 0.001, return_mask=True)\n",
    "# print (tpmask)\n",
    "timestamps = points_df['timestamp'].values\n",
    "timestamps[tpmask]\n"
   ]
  },
  {
   "cell_type": "code",
   "execution_count": null,
   "metadata": {},
   "outputs": [],
   "source": [
    "\n",
    "\n",
    "# creat map of latitude and longitude in points_df\n",
    "mlat = points_df['lat'].mean()\n",
    "mlon = points_df['lon'].mean()\n",
    "print (mlat, mlon)\n",
    "# m = folium.Map(location=[points_df['position_lat'].mean(), points_df['position_long'].mean()], zoom_start=14)\n",
    "# m"
   ]
  },
  {
   "cell_type": "code",
   "execution_count": null,
   "metadata": {},
   "outputs": [],
   "source": []
  },
  {
   "cell_type": "code",
   "execution_count": null,
   "metadata": {},
   "outputs": [],
   "source": [
    "arr = np.array([1, 1, 2, 2, 3, 3, 4, 4]).reshape(4, 2)\n",
    "arr.shape"
   ]
  },
  {
   "cell_type": "code",
   "execution_count": null,
   "metadata": {},
   "outputs": [],
   "source": [
    "# return tail(x, -2) - head(x, -2)\n",
    "\n",
    "\n",
    "def curvature(lng, lat):\n",
    "\n",
    "  def first_diff(x) :\n",
    "    return [x[i] - x[i-2] for i in range(2, len(x))]\n",
    "      \n",
    "  def second_diff(x) :\n",
    "    return [x[i] - 2 * x[i-1] + x[i-2] for i in range(2, len(x))]\n",
    "\n",
    "  def range_len(x) :\n",
    "    return range(len(x))\n",
    "  \n",
    "  x  = lng\n",
    "  y  = lat\n",
    "  x1 = first_diff(x)\n",
    "  y1 = first_diff(y)\n",
    "  x2 = second_diff(x)\n",
    "  y2 = second_diff(y)\n",
    "  num = [abs(x1[i] * y2[i] - y1[i] * x2[i]) for i in range_len(x1)]\n",
    "  denom = [((x1[i]**2 + y1[i]**2)**3)**0.5 for i in range_len(x1)]\n",
    "  # z  =  [abs(x1[i] * y2[i] - y1[i] * x2[i]) / ((x1[i]^2 + y1[i]^2)^3)**0.5 for i in range(len(x1))]\n",
    "  # return [0, z, 0]\n",
    "  return [0, [num[i] / denom[i] for i in range(len(num))], 0]\n",
    "\n",
    "lng = [1, 2, 3, 2, 5]\n",
    "lat = [1,3,1,4,2]\n",
    "print(lng[2:])\n",
    "\n",
    "print(first_diff(lng))\n",
    "print(second_diff(lng))\n",
    "curvature(lng, lat)"
   ]
  },
  {
   "cell_type": "code",
   "execution_count": null,
   "metadata": {},
   "outputs": [],
   "source": [
    "points_df"
   ]
  },
  {
   "cell_type": "code",
   "execution_count": null,
   "metadata": {},
   "outputs": [],
   "source": [
    "points_df\n",
    "# summarise points_df\n",
    "points_df.describe()\n",
    "\n",
    "# compute round of lat and lon of points_df\n",
    "points_df['round_lat'] = points_df['lat'].round(3)\n",
    "points_df['round_lon'] = points_df['lon'].round(3)\n",
    "points_df\n",
    "# compute rolling change in round_lat and round_lon\n",
    "points_df['delta_lat'] = points_df['round_lat'].diff()\n",
    "points_df['delta_lon'] = points_df['round_lon'].diff()\n",
    "\n",
    "\n",
    "\n",
    "spatial_hash(points_df)\n",
    "\n"
   ]
  },
  {
   "cell_type": "code",
   "execution_count": null,
   "metadata": {},
   "outputs": [],
   "source": [
    "# compute quantiles of enhanced_speed\n",
    "points_df['enhanced_speed'].quantile([0.1, 0.5, 0.9])\n",
    "\n",
    "import matplotlib\n",
    "# plot enhanced_speed and add plot title\n",
    "points_df['enhanced_speed'].plot().set_title('enhanced_speed')\n",
    "# matplotlib.pyplot.title('enhanced_speed')"
   ]
  },
  {
   "cell_type": "code",
   "execution_count": null,
   "metadata": {},
   "outputs": [],
   "source": [
    "\n",
    "import matplotlib\n",
    "import datetime\n",
    "import turnpoints\n",
    "import pandas as pd\n",
    "# p = points_df['enhanced_speed'].plot().set_title('Speed (m/s)')\n",
    "points_df = turnpoints.read_garmin(fname)\n",
    "_, _, tps_ = turnpoints.create_map(points_df)\n",
    "tps_\n",
    "    \n",
    "    # for tp in tps_:\n",
    "    #     matplotlib.pyplot.axvline(x=tp, color='r', linestyle='--')\n",
    "\n",
    "    # # compute average speed between turnpoints\n",
    "avs = []\n",
    "# points_df['timestamp'] = points_df['timestamp'].to_timestamp()\n",
    "# tps_ = [pd.to_datetime(tp) for tp in tps_]\n",
    "tps_ = pd.DataFrame(data = {\"timestamp\": tps_})\n",
    "tps_['timestamp'] = pd.to_datetime(tps_['timestamp'], utc=True)\n",
    "points_df['timestamp'] = pd.to_datetime(points_df['timestamp'], utc=True)\n",
    "# print number of rows of tps_\n",
    "\n",
    "# print(tps_['timestamp'].dtypes)\n",
    "# points_df['timestamp'].dtypes = \"datetime64\"\n",
    "# print(points_df['timestamp'].dtypes)\n",
    "\n",
    "for i in range(tps_.shape[0] - 1):\n",
    "    ss = points_df[\n",
    "        points_df['timestamp'] >= tps_['timestamp'][i] \n",
    "        # points_df['timestamp'] < tps_[i+1]\n",
    "    ]\n",
    "    mean_speed = ss['enhanced_speed'].mean() \n",
    "    avs.append(mean_speed)\n",
    "print(avs)"
   ]
  }
 ],
 "metadata": {
  "kernelspec": {
   "display_name": ".venv",
   "language": "python",
   "name": "python3"
  },
  "language_info": {
   "codemirror_mode": {
    "name": "ipython",
    "version": 3
   },
   "file_extension": ".py",
   "mimetype": "text/x-python",
   "name": "python",
   "nbconvert_exporter": "python",
   "pygments_lexer": "ipython3",
   "version": "3.11.0"
  }
 },
 "nbformat": 4,
 "nbformat_minor": 2
}
